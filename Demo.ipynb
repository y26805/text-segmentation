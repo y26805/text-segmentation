{
 "cells": [
  {
   "cell_type": "code",
   "execution_count": 1,
   "metadata": {},
   "outputs": [],
   "source": [
    "import pandas as pd\n",
    "import nltk\n",
    "from sklearn.feature_extraction.text import CountVectorizer\n",
    "import textsplit\n",
    "from textsplit.tools import get_penalty, get_segments, P_k\n",
    "from textsplit.algorithm import split_optimal, split_greedy, get_total"
   ]
  },
  {
   "cell_type": "code",
   "execution_count": 88,
   "metadata": {},
   "outputs": [],
   "source": [
    "FILE_PATH = '/Users/sauyee/repos/git/text-segmentation/data/article_3.txt'"
   ]
  },
  {
   "cell_type": "markdown",
   "metadata": {
    "heading_collapsed": true
   },
   "source": [
    "# Use pre-trained embeddings"
   ]
  },
  {
   "cell_type": "code",
   "execution_count": 2,
   "metadata": {
    "hidden": true
   },
   "outputs": [],
   "source": [
    "embeddings_tuple = pd.read_pickle('/Users/sauyee/repos/git/text-segmentation/polyglot-en.pkl')"
   ]
  },
  {
   "cell_type": "code",
   "execution_count": 3,
   "metadata": {
    "hidden": true
   },
   "outputs": [],
   "source": [
    "model_df = pd.DataFrame(embeddings_tuple[1], index=embeddings_tuple[0])"
   ]
  },
  {
   "cell_type": "code",
   "execution_count": 4,
   "metadata": {
    "hidden": true
   },
   "outputs": [
    {
     "data": {
      "text/plain": [
       "(100004, 64)"
      ]
     },
     "execution_count": 4,
     "metadata": {},
     "output_type": "execute_result"
    }
   ],
   "source": [
    "model_df.shape"
   ]
  },
  {
   "cell_type": "markdown",
   "metadata": {},
   "source": [
    "# Preprocessing / tokenization"
   ]
  },
  {
   "cell_type": "code",
   "execution_count": 5,
   "metadata": {},
   "outputs": [],
   "source": [
    "def get_sentence_tokenizer():\n",
    "    nltk.download('punkt')\n",
    "    return nltk.data.load('tokenizers/punkt/english.pickle')\n"
   ]
  },
  {
   "cell_type": "code",
   "execution_count": 6,
   "metadata": {},
   "outputs": [
    {
     "name": "stdout",
     "output_type": "stream",
     "text": [
      "[nltk_data] Downloading package punkt to /Users/sauyee/nltk_data...\n",
      "[nltk_data]   Package punkt is already up-to-date!\n"
     ]
    }
   ],
   "source": [
    "sentence_tokenizer = get_sentence_tokenizer()"
   ]
  },
  {
   "cell_type": "code",
   "execution_count": 50,
   "metadata": {},
   "outputs": [],
   "source": [
    "def preprocess_text(path):\n",
    "    with open(path, 'rt') as f:\n",
    "        text = f.read().replace('Yahoo!', 'Yahoo')\\\n",
    "            .replace('K.K.', 'KK')\\\n",
    "            .replace('\\n\\n', '\\n')\\\n",
    "            .replace('\\n', ' ¤')\n",
    "    return text\n",
    "\n",
    "def get_sentenced_vectors(text, sentence_analyzer, model_df):\n",
    "    sentenced_text = sentence_analyzer.tokenize(text)\n",
    "    vecr = CountVectorizer(vocabulary=model_df.index)\n",
    "    return vecr.transform(sentenced_text).dot(model_df)\n",
    "\n",
    "def get_optimal_segmentation_and_text(sentenced_text, sentence_vectors, penalty):\n",
    "    optimal_segmentation = split_optimal(sentence_vectors, penalty, seg_limit=250)\n",
    "    # seg_limit is maximum number of sentences in a segment. optional\n",
    "    segmented_text = get_segments(sentenced_text, optimal_segmentation)\n",
    "    print('%d sentences, %d segments, avg %4.2f sentences per segment' % (\n",
    "        len(sentenced_text), len(segmented_text), len(sentenced_text) / len(segmented_text)))\n",
    "    return optimal_segmentation, segmented_text"
   ]
  },
  {
   "cell_type": "code",
   "execution_count": 89,
   "metadata": {},
   "outputs": [],
   "source": [
    "text = preprocess_text(FILE_PATH)"
   ]
  },
  {
   "cell_type": "code",
   "execution_count": 90,
   "metadata": {},
   "outputs": [
    {
     "data": {
      "text/plain": [
       "'Money talks in the startup community, especially when SoftBank comes knocking with the megabucks of its Vision Fund. ¤Despite the public outcry around the firm’s dependence on money from Saudi Arabia in the wake of that country’s assassination of Washington Post journalist Jamal Khashoggi, deal flow for SoftBank’s  Vision Fund appears to be back to normal. ¤The $100 billion megafund has done 21 deals over the last two quarters; that’s more than in the other quarters of the previous year combined, according to data from Crunchbase, thanks to an uptick from Asia. Since the October 2 murder, there have been 11 investments in U.S. companies, seven in Asia, two in Europe and one in Latin America. Just this week, the fund completed a near $1.5 billion investment in Southeast Asia-based ride-hailing company Grab. ¤While U.S. and European firms have more options, and therefore, perhaps deserve more scrutiny, SoftBank’s cash is increasingly the only game in town for startups in Asia, where there are fewer alternatives for later-stage capital outside of large Chinese private equity firms or tech giants — which come with their own risks. ¤The Vision Fund is seen by some critics as tainted money for its links to the Saudi Royal family. Saudi Arabia’s Public Investment Fund (PIF) is the fund’s anchor investor and is controlled by Crown Prince Mohammad bin Salman, who has been strongly linked with the murder of Saudi journalist Jamal Khashoggi, an outspoken critic of the regime. ¤Khashoggi, a Washington Post columnist, was murdered on October 2 after he entered the Saudi consulate in Istanbul. His visit was part of an effort to obtain divorce documents in order to marry his fiancée, but it ended with his apparently gruesome death. Audio clips suggest he was beheaded, dismembered and had his fingers severed before his body was dissolved in acid, although new reports suggest it may have been burned. ¤The Vision Fund is designed to finance “global winners,” which, like all investment funds, is set up to provide “unfair advantages” to help its companies grow into hugely important businesses. On the financial end, as is the norm, it is built to provide handsome returns to the LPs, thus directly boosting the coffers of the PIF, the Saudi kingdom and, by extension, the Saudi prince himself. ¤An investigation is ongoing, but there’s already plenty of evidence to suggest that the murder happened at the request of the prince. ¤Sources within the U.S. State Department have reportedly said it is “blindingly obvious” that the Crown Prince ordered the killing — he reportedly threatened to shoot Khashoggi one year before. But, now that the apparent period of outrage is over, SoftBank has reverted back to writing checks and companies are taking them in spite of the links to Saudi Arabia. ¤For startups, the money flow means that a major source of capital for growth or subsidies for customers comes from the Saudi royal family’s pockets — a regime that would reportedly not hesitate to murder a critical voice.SoftBank itself said it has a commitment to “the people” of Saudi Arabia that will see it deploy its capital unchanged, although chairman Masayoshi Son did concede that he will wait on the findings of the investigation into the murder before deciding on whether PIF will be involved in a second Vision Fund. ¤The founders taking the capital have been more cautious. When questioned, executives talk about the specifics of their deal and their growth plans; most defer issues on the management of LPs, like PIF, to SoftBank. While offering words in support of the ongoing murder investigation, they manage to say little about the ethics of taking money from the Saudi regime. ¤Bom Kim, CEO of Korean e-commerce company Coupang — which raised $2 billion from the Vision Fund — told TechCrunch in November that the allegations around the murder “don’t represent us and don’t represent [Vision Fund] companies.” ¤“We are deeply concerned by the reported events and alongside SoftBank are monitoring the situation closely until the full facts are known,” Tokopedia CEO William Tanuwijaya told TechCrunch in December after the Vision Fund co-led a $1.1 billion round.OYO, the budget hotel network based out of India, did not respond to a request for comment sent the day before this story was published. The startup raised $1 billion led by the Vision Fund in September. ¤TechCrunch was also unable to get a response to questions sent to Chehaoduo,  the Vision Fund’s first China-based startup, which raised $1.5 billion in February. The company is notable for being the only one of this group that didn’t count SoftBank as an existing investor prior to its Vision Fund deal. ¤The latest addition to the collection is Grab,  the ride-hailing company in Southeast Asia that’s led by CEO Anthony Tan, who is very publicly a devout Christian. In a statement sent to TechCrunch this week, Grab defended its relationship with SoftBank, which first invested in Grab back in 2014: ¤What happened to Jamal Khashoggi was obviously horrible. We hope whoever is responsible is held accountable. We are not in a position to comment on behalf of SoftBank but from our perspective Son-san and the entire SoftBank team have brought so much value to the table for Grab – beyond just financing. They have brought advice, mentorship and potential business opportunities. The Vision Fund is about investing for the next 100 or 200 years and investing in trends that will move the needle for humanity in positive ways. This is a lofty and ultimately positive goal. ¤The Vision Fund is just getting started in Asia, however, with rumors suggesting it is planning to open offices in China and India. Singapore is presumably on that list, too, while the fund has been busy hiring a general team that will operate globally out of the U.S. ¤To date, the fund’s focus in Asia has been on some of the region’s largest (highest-valued) companies, but as it develops a local presence it is likely to seek out less obvious deals to grow its portfolio. That’s going to mean this question of ethics and conscience around the Vision Fund’s capital will present itself to more founders in Asia. Going on what we’ve seen so far, most will have no problem taking the money and issuing platitudinous statements. ¤Privately, VCs in the region whom we have canvassed have said that founders have little choice but to take the Vision Fund’s money. They explain that nobody else can offer billion-dollar-sized checks, while SoftBank is an existing investor in many of them already, which gives it additional leverage. The fund also takes the aggressive approach of threatening to back rival companies if it doesn’t get the deals it wants, as we saw when Son said he’d consider a deal with Lyft when its Uber investment was uncertain. ¤That reality may be true — finding an alternative to a hypothetical $1 billion Vision Fund check is a daunting challenge — but we’ve reached a very sad time and place when the sheer size of an investment overrides important concerns about where that money came from. ¤'"
      ]
     },
     "execution_count": 90,
     "metadata": {},
     "output_type": "execute_result"
    }
   ],
   "source": [
    "text"
   ]
  },
  {
   "cell_type": "code",
   "execution_count": 91,
   "metadata": {},
   "outputs": [],
   "source": [
    "sentenced_text = sentence_tokenizer.tokenize(text)"
   ]
  },
  {
   "cell_type": "code",
   "execution_count": 92,
   "metadata": {},
   "outputs": [
    {
     "data": {
      "text/plain": [
       "['Money talks in the startup community, especially when SoftBank comes knocking with the megabucks of its Vision Fund.',\n",
       " '¤Despite the public outcry around the firm’s dependence on money from Saudi Arabia in the wake of that country’s assassination of Washington Post journalist Jamal Khashoggi, deal flow for SoftBank’s  Vision Fund appears to be back to normal.',\n",
       " '¤The $100 billion megafund has done 21 deals over the last two quarters; that’s more than in the other quarters of the previous year combined, according to data from Crunchbase, thanks to an uptick from Asia.',\n",
       " 'Since the October 2 murder, there have been 11 investments in U.S. companies, seven in Asia, two in Europe and one in Latin America.',\n",
       " 'Just this week, the fund completed a near $1.5 billion investment in Southeast Asia-based ride-hailing company Grab.',\n",
       " '¤While U.S. and European firms have more options, and therefore, perhaps deserve more scrutiny, SoftBank’s cash is increasingly the only game in town for startups in Asia, where there are fewer alternatives for later-stage capital outside of large Chinese private equity firms or tech giants — which come with their own risks.',\n",
       " '¤The Vision Fund is seen by some critics as tainted money for its links to the Saudi Royal family.',\n",
       " 'Saudi Arabia’s Public Investment Fund (PIF) is the fund’s anchor investor and is controlled by Crown Prince Mohammad bin Salman, who has been strongly linked with the murder of Saudi journalist Jamal Khashoggi, an outspoken critic of the regime.',\n",
       " '¤Khashoggi, a Washington Post columnist, was murdered on October 2 after he entered the Saudi consulate in Istanbul.',\n",
       " 'His visit was part of an effort to obtain divorce documents in order to marry his fiancée, but it ended with his apparently gruesome death.',\n",
       " 'Audio clips suggest he was beheaded, dismembered and had his fingers severed before his body was dissolved in acid, although new reports suggest it may have been burned.',\n",
       " '¤The Vision Fund is designed to finance “global winners,” which, like all investment funds, is set up to provide “unfair advantages” to help its companies grow into hugely important businesses.',\n",
       " 'On the financial end, as is the norm, it is built to provide handsome returns to the LPs, thus directly boosting the coffers of the PIF, the Saudi kingdom and, by extension, the Saudi prince himself.',\n",
       " '¤An investigation is ongoing, but there’s already plenty of evidence to suggest that the murder happened at the request of the prince.',\n",
       " '¤Sources within the U.S. State Department have reportedly said it is “blindingly obvious” that the Crown Prince ordered the killing — he reportedly threatened to shoot Khashoggi one year before.',\n",
       " 'But, now that the apparent period of outrage is over, SoftBank has reverted back to writing checks and companies are taking them in spite of the links to Saudi Arabia.',\n",
       " '¤For startups, the money flow means that a major source of capital for growth or subsidies for customers comes from the Saudi royal family’s pockets — a regime that would reportedly not hesitate to murder a critical voice.SoftBank itself said it has a commitment to “the people” of Saudi Arabia that will see it deploy its capital unchanged, although chairman Masayoshi Son did concede that he will wait on the findings of the investigation into the murder before deciding on whether PIF will be involved in a second Vision Fund.',\n",
       " '¤The founders taking the capital have been more cautious.',\n",
       " 'When questioned, executives talk about the specifics of their deal and their growth plans; most defer issues on the management of LPs, like PIF, to SoftBank.',\n",
       " 'While offering words in support of the ongoing murder investigation, they manage to say little about the ethics of taking money from the Saudi regime.',\n",
       " '¤Bom Kim, CEO of Korean e-commerce company Coupang — which raised $2 billion from the Vision Fund — told TechCrunch in November that the allegations around the murder “don’t represent us and don’t represent [Vision Fund] companies.” ¤“We are deeply concerned by the reported events and alongside SoftBank are monitoring the situation closely until the full facts are known,” Tokopedia CEO William Tanuwijaya told TechCrunch in December after the Vision Fund co-led a $1.1 billion round.OYO, the budget hotel network based out of India, did not respond to a request for comment sent the day before this story was published.',\n",
       " 'The startup raised $1 billion led by the Vision Fund in September.',\n",
       " '¤TechCrunch was also unable to get a response to questions sent to Chehaoduo,  the Vision Fund’s first China-based startup, which raised $1.5 billion in February.',\n",
       " 'The company is notable for being the only one of this group that didn’t count SoftBank as an existing investor prior to its Vision Fund deal.',\n",
       " '¤The latest addition to the collection is Grab,  the ride-hailing company in Southeast Asia that’s led by CEO Anthony Tan, who is very publicly a devout Christian.',\n",
       " 'In a statement sent to TechCrunch this week, Grab defended its relationship with SoftBank, which first invested in Grab back in 2014: ¤What happened to Jamal Khashoggi was obviously horrible.',\n",
       " 'We hope whoever is responsible is held accountable.',\n",
       " 'We are not in a position to comment on behalf of SoftBank but from our perspective Son-san and the entire SoftBank team have brought so much value to the table for Grab – beyond just financing.',\n",
       " 'They have brought advice, mentorship and potential business opportunities.',\n",
       " 'The Vision Fund is about investing for the next 100 or 200 years and investing in trends that will move the needle for humanity in positive ways.',\n",
       " 'This is a lofty and ultimately positive goal.',\n",
       " '¤The Vision Fund is just getting started in Asia, however, with rumors suggesting it is planning to open offices in China and India.',\n",
       " 'Singapore is presumably on that list, too, while the fund has been busy hiring a general team that will operate globally out of the U.S. ¤To date, the fund’s focus in Asia has been on some of the region’s largest (highest-valued) companies, but as it develops a local presence it is likely to seek out less obvious deals to grow its portfolio.',\n",
       " 'That’s going to mean this question of ethics and conscience around the Vision Fund’s capital will present itself to more founders in Asia.',\n",
       " 'Going on what we’ve seen so far, most will have no problem taking the money and issuing platitudinous statements.',\n",
       " '¤Privately, VCs in the region whom we have canvassed have said that founders have little choice but to take the Vision Fund’s money.',\n",
       " 'They explain that nobody else can offer billion-dollar-sized checks, while SoftBank is an existing investor in many of them already, which gives it additional leverage.',\n",
       " 'The fund also takes the aggressive approach of threatening to back rival companies if it doesn’t get the deals it wants, as we saw when Son said he’d consider a deal with Lyft when its Uber investment was uncertain.',\n",
       " '¤That reality may be true — finding an alternative to a hypothetical $1 billion Vision Fund check is a daunting challenge — but we’ve reached a very sad time and place when the sheer size of an investment overrides important concerns about where that money came from.',\n",
       " '¤']"
      ]
     },
     "execution_count": 92,
     "metadata": {},
     "output_type": "execute_result"
    }
   ],
   "source": [
    "sentenced_text"
   ]
  },
  {
   "cell_type": "code",
   "execution_count": 93,
   "metadata": {},
   "outputs": [],
   "source": [
    "sentenced_vectors = get_sentenced_vectors(text, sentence_tokenizer, model_df)"
   ]
  },
  {
   "cell_type": "code",
   "execution_count": 94,
   "metadata": {},
   "outputs": [],
   "source": [
    "split_ref = []\n",
    "for i, sentence in enumerate(sentenced_text):\n",
    "  if '¤' in sentence:\n",
    "    split_ref.append(i)"
   ]
  },
  {
   "cell_type": "code",
   "execution_count": 95,
   "metadata": {},
   "outputs": [
    {
     "name": "stdout",
     "output_type": "stream",
     "text": [
      "Number of senteces: 40\n",
      "Number of paragraphs in ref text 19\n",
      "Average number of sentences per paragraph 2.1052631578947367\n"
     ]
    }
   ],
   "source": [
    "print(\"Number of senteces:\", sentenced_vectors.shape[0])\n",
    "print(\"Number of paragraphs in ref text\", len(split_ref))\n",
    "print(\"Average number of sentences per paragraph\", sentenced_vectors.shape[0]/len(split_ref))"
   ]
  },
  {
   "cell_type": "code",
   "execution_count": 105,
   "metadata": {},
   "outputs": [],
   "source": [
    "penalty = get_penalty([sentenced_vectors], segment_len=2)"
   ]
  },
  {
   "cell_type": "code",
   "execution_count": null,
   "metadata": {},
   "outputs": [],
   "source": []
  },
  {
   "cell_type": "code",
   "execution_count": 106,
   "metadata": {},
   "outputs": [
    {
     "data": {
      "text/plain": [
       "2.7956890883501444"
      ]
     },
     "execution_count": 106,
     "metadata": {},
     "output_type": "execute_result"
    }
   ],
   "source": [
    "penalty"
   ]
  },
  {
   "cell_type": "code",
   "execution_count": 107,
   "metadata": {},
   "outputs": [
    {
     "name": "stdout",
     "output_type": "stream",
     "text": [
      "40 sentences, 22 segments, avg 1.82 sentences per segment\n"
     ]
    }
   ],
   "source": [
    "optimal_segmentation, segmented_text = get_optimal_segmentation_and_text(sentenced_text, sentenced_vectors, penalty)"
   ]
  },
  {
   "cell_type": "code",
   "execution_count": 108,
   "metadata": {},
   "outputs": [
    {
     "data": {
      "text/plain": [
       "[['Money talks in the startup community, especially when SoftBank comes knocking with the megabucks of its Vision Fund.',\n",
       "  '¤Despite the public outcry around the firm’s dependence on money from Saudi Arabia in the wake of that country’s assassination of Washington Post journalist Jamal Khashoggi, deal flow for SoftBank’s  Vision Fund appears to be back to normal.'],\n",
       " ['¤The $100 billion megafund has done 21 deals over the last two quarters; that’s more than in the other quarters of the previous year combined, according to data from Crunchbase, thanks to an uptick from Asia.',\n",
       "  'Since the October 2 murder, there have been 11 investments in U.S. companies, seven in Asia, two in Europe and one in Latin America.'],\n",
       " ['Just this week, the fund completed a near $1.5 billion investment in Southeast Asia-based ride-hailing company Grab.'],\n",
       " ['¤While U.S. and European firms have more options, and therefore, perhaps deserve more scrutiny, SoftBank’s cash is increasingly the only game in town for startups in Asia, where there are fewer alternatives for later-stage capital outside of large Chinese private equity firms or tech giants — which come with their own risks.'],\n",
       " ['¤The Vision Fund is seen by some critics as tainted money for its links to the Saudi Royal family.',\n",
       "  'Saudi Arabia’s Public Investment Fund (PIF) is the fund’s anchor investor and is controlled by Crown Prince Mohammad bin Salman, who has been strongly linked with the murder of Saudi journalist Jamal Khashoggi, an outspoken critic of the regime.',\n",
       "  '¤Khashoggi, a Washington Post columnist, was murdered on October 2 after he entered the Saudi consulate in Istanbul.'],\n",
       " ['His visit was part of an effort to obtain divorce documents in order to marry his fiancée, but it ended with his apparently gruesome death.'],\n",
       " ['Audio clips suggest he was beheaded, dismembered and had his fingers severed before his body was dissolved in acid, although new reports suggest it may have been burned.'],\n",
       " ['¤The Vision Fund is designed to finance “global winners,” which, like all investment funds, is set up to provide “unfair advantages” to help its companies grow into hugely important businesses.'],\n",
       " ['On the financial end, as is the norm, it is built to provide handsome returns to the LPs, thus directly boosting the coffers of the PIF, the Saudi kingdom and, by extension, the Saudi prince himself.',\n",
       "  '¤An investigation is ongoing, but there’s already plenty of evidence to suggest that the murder happened at the request of the prince.'],\n",
       " ['¤Sources within the U.S. State Department have reportedly said it is “blindingly obvious” that the Crown Prince ordered the killing — he reportedly threatened to shoot Khashoggi one year before.'],\n",
       " ['But, now that the apparent period of outrage is over, SoftBank has reverted back to writing checks and companies are taking them in spite of the links to Saudi Arabia.',\n",
       "  '¤For startups, the money flow means that a major source of capital for growth or subsidies for customers comes from the Saudi royal family’s pockets — a regime that would reportedly not hesitate to murder a critical voice.SoftBank itself said it has a commitment to “the people” of Saudi Arabia that will see it deploy its capital unchanged, although chairman Masayoshi Son did concede that he will wait on the findings of the investigation into the murder before deciding on whether PIF will be involved in a second Vision Fund.'],\n",
       " ['¤The founders taking the capital have been more cautious.'],\n",
       " ['When questioned, executives talk about the specifics of their deal and their growth plans; most defer issues on the management of LPs, like PIF, to SoftBank.',\n",
       "  'While offering words in support of the ongoing murder investigation, they manage to say little about the ethics of taking money from the Saudi regime.'],\n",
       " ['¤Bom Kim, CEO of Korean e-commerce company Coupang — which raised $2 billion from the Vision Fund — told TechCrunch in November that the allegations around the murder “don’t represent us and don’t represent [Vision Fund] companies.” ¤“We are deeply concerned by the reported events and alongside SoftBank are monitoring the situation closely until the full facts are known,” Tokopedia CEO William Tanuwijaya told TechCrunch in December after the Vision Fund co-led a $1.1 billion round.OYO, the budget hotel network based out of India, did not respond to a request for comment sent the day before this story was published.',\n",
       "  'The startup raised $1 billion led by the Vision Fund in September.'],\n",
       " ['¤TechCrunch was also unable to get a response to questions sent to Chehaoduo,  the Vision Fund’s first China-based startup, which raised $1.5 billion in February.'],\n",
       " ['The company is notable for being the only one of this group that didn’t count SoftBank as an existing investor prior to its Vision Fund deal.',\n",
       "  '¤The latest addition to the collection is Grab,  the ride-hailing company in Southeast Asia that’s led by CEO Anthony Tan, who is very publicly a devout Christian.'],\n",
       " ['In a statement sent to TechCrunch this week, Grab defended its relationship with SoftBank, which first invested in Grab back in 2014: ¤What happened to Jamal Khashoggi was obviously horrible.'],\n",
       " ['We hope whoever is responsible is held accountable.',\n",
       "  'We are not in a position to comment on behalf of SoftBank but from our perspective Son-san and the entire SoftBank team have brought so much value to the table for Grab – beyond just financing.',\n",
       "  'They have brought advice, mentorship and potential business opportunities.',\n",
       "  'The Vision Fund is about investing for the next 100 or 200 years and investing in trends that will move the needle for humanity in positive ways.',\n",
       "  'This is a lofty and ultimately positive goal.',\n",
       "  '¤The Vision Fund is just getting started in Asia, however, with rumors suggesting it is planning to open offices in China and India.',\n",
       "  'Singapore is presumably on that list, too, while the fund has been busy hiring a general team that will operate globally out of the U.S. ¤To date, the fund’s focus in Asia has been on some of the region’s largest (highest-valued) companies, but as it develops a local presence it is likely to seek out less obvious deals to grow its portfolio.',\n",
       "  'That’s going to mean this question of ethics and conscience around the Vision Fund’s capital will present itself to more founders in Asia.'],\n",
       " ['Going on what we’ve seen so far, most will have no problem taking the money and issuing platitudinous statements.',\n",
       "  '¤Privately, VCs in the region whom we have canvassed have said that founders have little choice but to take the Vision Fund’s money.'],\n",
       " ['They explain that nobody else can offer billion-dollar-sized checks, while SoftBank is an existing investor in many of them already, which gives it additional leverage.'],\n",
       " ['The fund also takes the aggressive approach of threatening to back rival companies if it doesn’t get the deals it wants, as we saw when Son said he’d consider a deal with Lyft when its Uber investment was uncertain.'],\n",
       " ['¤That reality may be true — finding an alternative to a hypothetical $1 billion Vision Fund check is a daunting challenge — but we’ve reached a very sad time and place when the sheer size of an investment overrides important concerns about where that money came from.',\n",
       "  '¤']]"
      ]
     },
     "execution_count": 108,
     "metadata": {},
     "output_type": "execute_result"
    }
   ],
   "source": [
    "segmented_text"
   ]
  },
  {
   "cell_type": "code",
   "execution_count": 120,
   "metadata": {},
   "outputs": [
    {
     "name": "stdout",
     "output_type": "stream",
     "text": [
      "0\n"
     ]
    }
   ],
   "source": [
    "# check k val\n",
    "N = len(sentenced_text)\n",
    "k = round(N / (len(split_ref) + 1) / 2 - 1)\n",
    "print(k)"
   ]
  },
  {
   "cell_type": "code",
   "execution_count": 109,
   "metadata": {},
   "outputs": [
    {
     "name": "stdout",
     "output_type": "stream",
     "text": [
      "0.0\n"
     ]
    }
   ],
   "source": [
    "print(P_k(split_ref, optimal_segmentation.splits, len(sentenced_text)))"
   ]
  },
  {
   "cell_type": "code",
   "execution_count": 122,
   "metadata": {},
   "outputs": [
    {
     "name": "stdout",
     "output_type": "stream",
     "text": [
      "0.48717948717948717\n"
     ]
    }
   ],
   "source": [
    "k = 1\n",
    "ref = np.array(split_ref, dtype=np.int32)\n",
    "hyp = np.array(optimal_segmentation.splits, dtype=np.int32)\n",
    "\n",
    "def is_split_between(splits, l, r):\n",
    "    return np.sometrue(np.logical_and(splits - l >= 0, splits - r < 0))\n",
    "\n",
    "acc = 0\n",
    "for i in range(N-k):\n",
    "    acc += is_split_between(ref, i, i+k) != is_split_between(hyp, i, i+k)\n",
    "\n",
    "print(acc / (N-k))"
   ]
  },
  {
   "cell_type": "code",
   "execution_count": 110,
   "metadata": {},
   "outputs": [
    {
     "name": "stdout",
     "output_type": "stream",
     "text": [
      "Number of paragraphs in hyp text 21\n"
     ]
    }
   ],
   "source": [
    "print(\"Number of paragraphs in hyp text\", len(optimal_segmentation.splits))"
   ]
  },
  {
   "cell_type": "code",
   "execution_count": 111,
   "metadata": {},
   "outputs": [
    {
     "data": {
      "text/plain": [
       "[2, 4, 5, 6, 9, 10, 11, 12, 14, 15, 17, 18, 20, 22, 23, 25, 26, 34, 36, 37, 38]"
      ]
     },
     "execution_count": 111,
     "metadata": {},
     "output_type": "execute_result"
    }
   ],
   "source": [
    "optimal_segmentation.splits"
   ]
  },
  {
   "cell_type": "code",
   "execution_count": 112,
   "metadata": {},
   "outputs": [
    {
     "data": {
      "text/plain": [
       "[1, 2, 5, 6, 8, 11, 13, 14, 16, 17, 20, 22, 24, 25, 31, 32, 35, 38, 39]"
      ]
     },
     "execution_count": 112,
     "metadata": {},
     "output_type": "execute_result"
    }
   ],
   "source": [
    "split_ref"
   ]
  },
  {
   "cell_type": "code",
   "execution_count": null,
   "metadata": {},
   "outputs": [],
   "source": []
  }
 ],
 "metadata": {
  "kernelspec": {
   "display_name": "nlp",
   "language": "python",
   "name": "nlp"
  },
  "language_info": {
   "codemirror_mode": {
    "name": "ipython",
    "version": 3
   },
   "file_extension": ".py",
   "mimetype": "text/x-python",
   "name": "python",
   "nbconvert_exporter": "python",
   "pygments_lexer": "ipython3",
   "version": "3.6.5"
  },
  "varInspector": {
   "cols": {
    "lenName": 16,
    "lenType": 16,
    "lenVar": 40
   },
   "kernels_config": {
    "python": {
     "delete_cmd_postfix": "",
     "delete_cmd_prefix": "del ",
     "library": "var_list.py",
     "varRefreshCmd": "print(var_dic_list())"
    },
    "r": {
     "delete_cmd_postfix": ") ",
     "delete_cmd_prefix": "rm(",
     "library": "var_list.r",
     "varRefreshCmd": "cat(var_dic_list()) "
    }
   },
   "types_to_exclude": [
    "module",
    "function",
    "builtin_function_or_method",
    "instance",
    "_Feature"
   ],
   "window_display": false
  }
 },
 "nbformat": 4,
 "nbformat_minor": 2
}
