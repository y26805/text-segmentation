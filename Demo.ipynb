{
 "cells": [
  {
   "cell_type": "code",
   "execution_count": 1,
   "metadata": {},
   "outputs": [],
   "source": [
    "import pandas as pd\n",
    "import nltk\n",
    "from sklearn.feature_extraction.text import CountVectorizer\n",
    "import textsplit\n",
    "from textsplit.tools import get_penalty, get_segments, P_k\n",
    "from textsplit.algorithm import split_optimal, split_greedy, get_total"
   ]
  },
  {
   "cell_type": "code",
   "execution_count": 15,
   "metadata": {},
   "outputs": [],
   "source": [
    "FILE_PATH = '/Users/sauyee/repos/git/text-segmentation/data/article_1.txt'"
   ]
  },
  {
   "cell_type": "markdown",
   "metadata": {},
   "source": [
    "# Use pre-trained embeddings"
   ]
  },
  {
   "cell_type": "code",
   "execution_count": 2,
   "metadata": {},
   "outputs": [],
   "source": [
    "embeddings_tuple = pd.read_pickle('/Users/sauyee/repos/git/text-segmentation/polyglot-en.pkl')"
   ]
  },
  {
   "cell_type": "code",
   "execution_count": 3,
   "metadata": {},
   "outputs": [],
   "source": [
    "model_df = pd.DataFrame(embeddings_tuple[1], index=embeddings_tuple[0])"
   ]
  },
  {
   "cell_type": "code",
   "execution_count": 4,
   "metadata": {},
   "outputs": [
    {
     "data": {
      "text/plain": [
       "(100004, 64)"
      ]
     },
     "execution_count": 4,
     "metadata": {},
     "output_type": "execute_result"
    }
   ],
   "source": [
    "model_df.shape"
   ]
  },
  {
   "cell_type": "markdown",
   "metadata": {},
   "source": [
    "# Preprocessing / tokenization"
   ]
  },
  {
   "cell_type": "code",
   "execution_count": 5,
   "metadata": {},
   "outputs": [],
   "source": [
    "def get_sentence_tokenizer():\n",
    "    nltk.download('punkt')\n",
    "    return nltk.data.load('tokenizers/punkt/english.pickle')\n"
   ]
  },
  {
   "cell_type": "code",
   "execution_count": 6,
   "metadata": {},
   "outputs": [
    {
     "name": "stdout",
     "output_type": "stream",
     "text": [
      "[nltk_data] Downloading package punkt to /Users/sauyee/nltk_data...\n",
      "[nltk_data]   Package punkt is already up-to-date!\n"
     ]
    }
   ],
   "source": [
    "sentence_tokenizer = get_sentence_tokenizer()"
   ]
  },
  {
   "cell_type": "code",
   "execution_count": 7,
   "metadata": {},
   "outputs": [],
   "source": [
    "def preprocess_text(path):\n",
    "    with open(path, 'rt') as f:\n",
    "        text = f.read().replace('Yahoo!', 'Yahoo')\\\n",
    "            .replace('K.K.', 'KK')\\\n",
    "            .replace('\\n\\n', '\\n')\\\n",
    "            .replace('\\n', ' ¤')\n",
    "    return text\n",
    "\n",
    "\n",
    "def get_sentenced_vectors(text, sentence_analyzer, model_df):\n",
    "    sentenced_text = sentence_analyzer.tokenize(text)\n",
    "    vecr = CountVectorizer(vocabulary=model_df.index)\n",
    "    return vecr.transform(sentenced_text).dot(model_df)\n",
    "\n",
    "def get_optimal_segmentation_and_text(sentenced_text, sentence_vectors, penalty):\n",
    "    optimal_segmentation = split_optimal(sentence_vectors, penalty, seg_limit=250)\n",
    "    # seg_limit is maximum number of sentences in a segment. optional\n",
    "    segmented_text = get_segments(sentenced_text, optimal_segmentation)\n",
    "    print('%d sentences, %d segments, avg %4.2f sentences per segment' % (\n",
    "        len(sentenced_text), len(segmented_text), len(sentenced_text) / len(segmented_text)))\n",
    "    return optimal_segmentation, segmented_text"
   ]
  },
  {
   "cell_type": "code",
   "execution_count": 25,
   "metadata": {},
   "outputs": [],
   "source": [
    "text = preprocess_text(FILE_PATH)"
   ]
  },
  {
   "cell_type": "code",
   "execution_count": 26,
   "metadata": {},
   "outputs": [
    {
     "data": {
      "text/plain": [
       "'SoftBank is launching of a $5 billion fund that will invest in technology start-ups across Latin America, the company announced Thursday. ¤The new fund, named the SoftBank Innovation Fund, will be run by former Sprint CEO and Bolivian native Marcelo Claure. SoftBank has already committed $2 billion to the fund, though no decision has been made yet on where its headquarters will be. ¤The fund’s size is unprecedented in Latin America as it totals the combined venture capital investments of 2017 and 2018, according to Venturesource data cited by The Wall Street Journal. ¤“Latin America is on the cusp of becoming one of the most important economic regions in the world, and we anticipate significant growth in the decades ahead,” said Masayoshi Son, chairman and CEO of SoftBank, in a statement. ¤SoftBank said the new fund will focus investments on industries like e-commerce, health care and digital financial services, among others. The fund will also invest all throughout Latin America, including countries like Argentina, Brazil, Chile and Mexico. ¤“There is so much innovation and disruption taking place in the region, and I believe the business opportunities have never been stronger,” said Claure. “The SoftBank Innovation Fund will become a major investor in transformative Latin American companies that are poised to redefine their industries and create new economic opportunities for millions of people.” ¤Softbank, which already has a $100 billion investment vehicle known as Softbank Vision Fund, has made large investments in ride-hailing firm Uber Technologies, shared office provider WeWork, food delivery startup DoorDash and dog walking app Wag. ¤'"
      ]
     },
     "execution_count": 26,
     "metadata": {},
     "output_type": "execute_result"
    }
   ],
   "source": [
    "text"
   ]
  },
  {
   "cell_type": "code",
   "execution_count": 27,
   "metadata": {},
   "outputs": [],
   "source": [
    "sentenced_text = sentence_tokenizer.tokenize(text)"
   ]
  },
  {
   "cell_type": "code",
   "execution_count": 28,
   "metadata": {},
   "outputs": [
    {
     "data": {
      "text/plain": [
       "['SoftBank is launching of a $5 billion fund that will invest in technology start-ups across Latin America, the company announced Thursday.',\n",
       " '¤The new fund, named the SoftBank Innovation Fund, will be run by former Sprint CEO and Bolivian native Marcelo Claure.',\n",
       " 'SoftBank has already committed $2 billion to the fund, though no decision has been made yet on where its headquarters will be.',\n",
       " '¤The fund’s size is unprecedented in Latin America as it totals the combined venture capital investments of 2017 and 2018, according to Venturesource data cited by The Wall Street Journal.',\n",
       " '¤“Latin America is on the cusp of becoming one of the most important economic regions in the world, and we anticipate significant growth in the decades ahead,” said Masayoshi Son, chairman and CEO of SoftBank, in a statement.',\n",
       " '¤SoftBank said the new fund will focus investments on industries like e-commerce, health care and digital financial services, among others.',\n",
       " 'The fund will also invest all throughout Latin America, including countries like Argentina, Brazil, Chile and Mexico.',\n",
       " '¤“There is so much innovation and disruption taking place in the region, and I believe the business opportunities have never been stronger,” said Claure.',\n",
       " '“The SoftBank Innovation Fund will become a major investor in transformative Latin American companies that are poised to redefine their industries and create new economic opportunities for millions of people.” ¤Softbank, which already has a $100 billion investment vehicle known as Softbank Vision Fund, has made large investments in ride-hailing firm Uber Technologies, shared office provider WeWork, food delivery startup DoorDash and dog walking app Wag.',\n",
       " '¤']"
      ]
     },
     "execution_count": 28,
     "metadata": {},
     "output_type": "execute_result"
    }
   ],
   "source": [
    "sentenced_text"
   ]
  },
  {
   "cell_type": "code",
   "execution_count": 82,
   "metadata": {},
   "outputs": [],
   "source": [
    "sentenced_vectors = get_sentenced_vectors(text, sentence_tokenizer, model_df)"
   ]
  },
  {
   "cell_type": "code",
   "execution_count": null,
   "metadata": {},
   "outputs": [],
   "source": []
  },
  {
   "cell_type": "code",
   "execution_count": 83,
   "metadata": {},
   "outputs": [
    {
     "data": {
      "text/plain": [
       "(258, 64)"
      ]
     },
     "execution_count": 83,
     "metadata": {},
     "output_type": "execute_result"
    }
   ],
   "source": [
    "sentenced_vectors.shape # 378 sentences"
   ]
  },
  {
   "cell_type": "code",
   "execution_count": 120,
   "metadata": {},
   "outputs": [],
   "source": [
    "penalty = get_penalty([sentenced_vectors], segment_len=25)"
   ]
  },
  {
   "cell_type": "code",
   "execution_count": 121,
   "metadata": {},
   "outputs": [
    {
     "data": {
      "text/plain": [
       "(258, 64)"
      ]
     },
     "execution_count": 121,
     "metadata": {},
     "output_type": "execute_result"
    }
   ],
   "source": [
    "sentenced_vectors.shape"
   ]
  },
  {
   "cell_type": "code",
   "execution_count": 122,
   "metadata": {},
   "outputs": [
    {
     "data": {
      "text/plain": [
       "6.024941538420649"
      ]
     },
     "execution_count": 122,
     "metadata": {},
     "output_type": "execute_result"
    }
   ],
   "source": [
    "penalty"
   ]
  },
  {
   "cell_type": "code",
   "execution_count": 123,
   "metadata": {},
   "outputs": [
    {
     "name": "stdout",
     "output_type": "stream",
     "text": [
      "258 sentences, 12 segments, avg 21.50 sentences per segment\n"
     ]
    }
   ],
   "source": [
    "optimal_segmentation, segmented_text = get_optimal_segmentation_and_text(sentenced_text, sentenced_vectors, penalty)"
   ]
  },
  {
   "cell_type": "code",
   "execution_count": 124,
   "metadata": {},
   "outputs": [
    {
     "data": {
      "text/plain": [
       "[['Thank you very much, director sir .',\n",
       "  'Ladies and Gentlemen!',\n",
       "  '¤Before my speech, I would like to show you a video which happenning in Hangzhou about our Hangzhou SME Summit ,can I ?',\n",
       "  '¤  ¤Thank you!',\n",
       "  '¤  ¤After 3 days, you know, in house meeting and flying all the way here ,and I didn’t feel not quite well today ,but when I see the entrepreneurs ,when I came to the SMES ,I always feel excited.'],\n",
       " ['Because when I join the SME Conference, I see from the eyes of the dreams ,the passion ,the hope ; when I join the Fortune 500 Conference, I am the CEO ,I see the numbers ,I see the revenues, I see the KPIs， I see the bloody competition.'],\n",
       " ['But among the SMES ,you see \"I have a dream ,I want to do something.\"',\n",
       "  'and that happens all the time and that make me excited all the time .Today I think last year every people say \"Wa, the economic is in trouble ,we are all dead ,what are we going to do ?\"',\n",
       "  'Today everybody seems to be happy and say the economy come back .Is really the economy come back ?I don’t think so .The money is go to big companies, the money goes to infrastructure and the money go back to the stock market.',\n",
       "  'It seems nobody learns from that .',\n",
       "  'How can the economy comes back if the SMES is not come back , how can the economic come back if the dreams are not come back ,the hopes not come back ?',\n",
       "  'I saw one thing that ,few days ,you know ,2 days ago I have a dinner with my Singapore friends and they said think our government is encouraging to have more babies because ,you know , people aging and enough kids .',\n",
       "  'I think , we , every economy , every nation , needs explicitly to have more small medium size companies , to have more hopes , because every big company comes from the small business .',\n",
       "  'If without hope , without expect to have more babies , we are going to die.',\n",
       "  'Why do I always feel excited ?',\n",
       "  'I have 8 “babies”.',\n",
       "  'In the far past 15 years , I build up 8 companies –-seven of them , very healthy ; one of them ,I sold it .',\n",
       "  'And I keep the babies , when I look at my babies— Alibaba , Taobao, Alipay and you know ,the company we just have AliCloud we just have a new baby 2 month ago .',\n",
       "  'I always feel excited because you see the hope ,you know this baby is going to change me ,this baby is going to change the world and the customers.',\n",
       "  'And  that’s the thing I always feel excited.',\n",
       "  'If you want to be happy , have more babies.',\n",
       "  'If you are the government ,want your economy to be good , have more SMES.',\n",
       "  'These are the dreams ,these are the hope ,these are the future.'],\n",
       " ['So this is all we want to say, but enough, we’ve been crying, and say please give us support.',\n",
       "  'But all the SMES, ask yourself one question, we are not crying babies.',\n",
       "  'We believe we are tomorrow’s Google, we believe we are tomorrow’s eBay, YouTobe, we believe we are tomorrow’s UPS.',\n",
       "  'If we believe we are ,we can be; if you don’t believe, you never be.',\n",
       "  'We heard a lot of government say (we give you) “Let me know what we can do?'],\n",
       " ['”,”let me know what we can help SMES ”; we heard a lot of banks say “well ,we’ve been, you know ,give loans to SMES” I heard some bank said “well”, one of the bank present said “we gave like, you know , 200 millions US$ to the SMES” ,I ask “what’s the size the loan you give?” “20 millions dollars.',\n",
       "  'How can you say the 20 millions?',\n",
       "  'As the research I got, Alibaba Group (Alibaba statistic) 87% of the SMES, what they need, the fund is below 60 thousand US$.',\n",
       "  'But they gave the loan 20 millions to some big companies, they are not SMES, they are not the hopes.',\n",
       "  'But, I think all the SMES say, (that) nobody can help you.',\n",
       "  'My 8 companies, I always say, nobody help us, only we can help ourselves.',\n",
       "  'Don’t rely on the government, don’t rely on the bank, forget about that.',\n",
       "  'Rely on your friends, rely on relatives, rely on your small dreams and always keep that thing in head – I’ve been trying very hard to get loans from banks, always trouble.',\n",
       "  'Within the past years, I even did not borrow one cent from banks, my kids grow up, I don’t know why.',\n",
       "  'The bank always say “because we don’t have enough information from the SMES.',\n",
       "  '” Tell me, any fortune 500, any big bank, companies’ present, CEOs go to the SMES’ summit.',\n",
       "  'No!',\n",
       "  'they go to the CEOs’ summit.',\n",
       "  'How could you get information if you do not go there listening to them, talk to them, share experiences with them?',\n",
       "  'To see what they need is only 50 thousand US$, instead of 200 million dollars.',\n",
       "  'How can you get enough information?',\n",
       "  'So, well, we discussed yesterday, banks are banks.',\n",
       "  'They always have to control the risk.',\n",
       "  'Right!',\n",
       "  'So banks and governments, let’s think about something new.',\n",
       "  'New financial structure that can help those millions of hope companies that need only 50 thousand US$ .',\n",
       "  'What is the right structure, what is the right organization to support them.',\n",
       "  'That’s the thing we should think about.',\n",
       "  '¤  ¤So the other thing I want to share with you here is always I believe “the small is beautiful.” And this financial crisis is a disaster to big companies.',\n",
       "  'This world in last 20th century it’s bigger is better.',\n",
       "  'You have big (you know) factory, big fund, everything is big ，is good.',\n",
       "  'This century ,in the 21st century, I always believe small is beautiful.',\n",
       "  'It’s not how fast you machines，it’s not how many equipments you  have, it is how quickly you can change yourself to meet the market.',\n",
       "  'Because the information time, Internet and technology make a difference .',\n",
       "  'So the world IT last century is designed for the manufacturers.',\n",
       "  'This century IT is designed to make a help to the consumers.',\n",
       "  'So I think this is a disaster for the big company, but it is a great opportunity for small businesses.',\n",
       "  'For this financial crisis ,we see a lot of big companies, we would never thought die, AIG, GE, it’s like the empire ,how could this happen.',\n",
       "  'You know, all the, the big car company which we respect, we always want to be there.',\n",
       "  'But today ,they all died.',\n",
       "  'Let’s look at all the SMES, we still feel painful, but we are happy in our heart because we are still survive.',\n",
       "  'We heard so many stories about big companies giving trouble.',\n",
       "  'And I see the society, the government pay too much attention to these trouble makers.',\n",
       "  'They are the trouble makers and we gave them enough support, let them die, it’s the time for them to die because they make troubles.',\n",
       "  'Every big company, they have different disaster, different problems, but all the SMES ,they have the same problems.',\n",
       "  'They need understanding and support.',\n",
       "  'This world is not fair, I know, so that’s why I want to encourage all the SMES here, I’m the SME, I have 8 kids, I still think I’m SME, I still believe I’m small.'],\n",
       " ['Because when I am small ,I know l can be big and I hate to be big, unfortunately.',\n",
       "  'When I was a small company, only have 20 people, I felt so excited.',\n",
       "  'Well, I can call every employee’s names and every time, every thing, I want to change, I can change in half one minute.',\n",
       "  'Now ,terrible.',\n",
       "  'When I was 20 years old, my friends told me “you company is not big enough.',\n",
       "  'If you are big, you are like a big boss.',\n",
       "  'You are easy, you can control your time.',\n",
       "  '” No, my time is not controlled by myself, my time is controlled by all the meetings, sectary, KPI, shareholders, all the things.',\n",
       "  'It’s much tougher than you are small.',\n",
       "  'So I always believe the first day love is every beautiful.',\n",
       "  'Believe the first day love, when you are small, at least you can have time to go out to cinema with your wife and kids and enjoy wonderful view.',\n",
       "  'But when you are big ,you always go to the board meetings.',\n",
       "  '¤  ¤And also I want to say, that, like I … you some today I come here, people say “Jack, you do not prepare, why don’t you prepare PPT?” I never prepare PPT, you know, I’m not good at technology.',\n",
       "  'I was trained to be a high school teacher and the only thing I can know about computer, funny thing, I’m running one of the biggest e-commerce companies in China, in the world, but I know, the only thing I can know about computer is to send and receive email and brows.',\n",
       "  'That’s it.',\n",
       "  'Because I always think technology is for the people, people is not working for the technology.',\n",
       "  'But today I come here as an entrepreneur，I prepared every day.',\n",
       "  'I’m not prepared for the PPT, because every time when I use the PPT, something wrong, I cannot use it.',\n",
       "  'So I come here to tell my old experiences, I want to share with you as 8 kids’ father what I did when I have trouble.',\n",
       "  'When I have trouble, I always remind me 3 things: focus on your customer, serve your employees, learn from your competitors.'],\n",
       " ['These are the key, the thing you learned.',\n",
       "  'Focus on your customer, everybody toady talk about shareholder NO.1, I hate that.',\n",
       "  'I think it’s always customer NO.1.',\n",
       "  'it’s the customer give you the money.',\n",
       "  'It’s the customer give you the innovations.',\n",
       "  'It’s the customer that makes you happy.'],\n",
       " ['Year 1999 and 2000, when Internet bubble burst, we cannot get any money, we did not have revenue, we have nothing, but everyday encouraged me go on was the thanks from my customers, said “Jack, Alibaba, keep on.',\n",
       "  'Because you helped us, someday we will help you”.',\n",
       "  'That’s the dream I had.',\n",
       "  'So today, we believe shareholder NO.1 you only think about making numbers.',\n",
       "  'You only think about revenues, you only think about how to make you stock market go up.',\n",
       "  'I let you know, no shareholders can be trusted.',\n",
       "  'I tell you the truth.',\n",
       "  'Well, our share stock price, 2 years ago, we listed, 13.50 HongKong dollars.',\n",
       "  'Before the … a lot of shareholders came to say “Jack, we are long-term shareholders, please give us more shares, we will keep it.” When the financial crisis came, the day we IPO, 13.50 HongKong dollars, we went up 40 dollars in 24 hours without doing anything good.',\n",
       "  'And then financial crisis came, 40 dollars to 3 dollars without doing anything bad, they all gone.',\n",
       "  'Most shareholders are share traders.',\n",
       "  'How can you trust on them?',\n",
       "  'So rely on your customers because the customers stay with you, customer grow up with you, customer give you the money, give you the hope, give you the support.',\n",
       "  'So focus on your customer, and secondly, rely and serve your employees, it’s you employee, the team that make the difference.',\n",
       "  'It’s the employees that make all the dreams realize.',\n",
       "  '…we have so many problems, big companies have problems, getting the innovations, how to make thing happen, well, because they do not listen to the employees, they focus too much on the shareholders.',\n",
       "  'They give you this idea, that idea, when you really do their idea, they are gone.',\n",
       "  'They change all the time, but the employees stay with you.',\n",
       "  'I remember the tough days, was so difficult year 2001 and 2002 there was only one group of people that stay with me, that’s my colleagues.',\n",
       "  'And people say “Jack, you don’t have to pay me for 2 years, I will stay with the company because you respect us, because the customer love us.” I tell you one funny thing, the only way you believe your employees are talents, they are talented people.',\n",
       "  'If you don’t believe them, they will never be.',\n",
       "  'The mistake I made in the year 2000, we rised 500 thousand US$.',\n",
       "  'When we have money, we started to make mistakes.',\n",
       "  'We tried to hair as many talents as possible.',\n",
       "  'Those talents are MBAs, those talents are vice presidents of multinational companies, because I believe if you have MBAs, you must be good, right?',\n",
       "  'But when I hired these guys, oh, my god, it’s terrible.',\n",
       "  'These guys came to tell you strategy, I only had 5 million dollars, I remember one vice president said, Jack this is the budget for next year marketing.',\n",
       "  'I said, what is that, 12 million dollars?',\n",
       "  'I only have 5 million.',\n",
       "  'He said I never done any plan below 10 million.',\n",
       "  'When something wrong is always your fault,  because you never know.',\n",
       "  'So try to find the right people, not the best people of your employees.',\n",
       "  'So if you try to hire great people in your own company which your company is not good enough in that time, just like a Boone 747 (engine) into a tractor, when that goes, it never fly.',\n",
       "  '(it’s) into pieces.',\n",
       "  'So my suggestion is look at your employees, develop them, only when they develop, the company will develop.',\n",
       "  '¤  ¤The day when we IPO, we created more than a thousand millions there at least in the company.',\n",
       "  'All the guys in the sitting room, we had a chat.',\n",
       "  'Said, “ask me.',\n",
       "  'Now tell me one thing, why you are so successful?',\n",
       "  'Why are we so successful when we are 20, become millions?',\n",
       "  'What happened, are we very hard working people?',\n",
       "  'I think there are more hard working people outside.',\n",
       "  'Do you think we are smart enough?',\n",
       "  '…At least, I’m not smart, I tool 3 times to go to the university.',\n",
       "  'I failed all the times.',\n",
       "  'I don’t think I’m smart, I don’t think you are smart.',\n",
       "  '” and that time in the year 2002 it’s so difficult for Alibaba to hire people.',\n",
       "  'If they are not very much disabled, we hired them, if they can walk, we hired them.',\n",
       "  'Because nobody believed the Internet, nobody believed e-commerce can work in China, nobody believed, you know, Internet can happen.',\n",
       "  'But these guys, because they have no job, so let’s come here.',\n",
       "  'They joined the company.',\n",
       "  'Those people with MBAs, with great backgrounds, a lot of hunting company, they moved out, they started their own business, now, today they all failed.',\n",
       "  'Those guys, nobody hunting them, those guys, they never have the dream to built their own company and stayed with the company.',\n",
       "  'After 5 years, we all succeed.',\n",
       "  'Why?',\n",
       "  'We keep our dreams, we believed it, no matter how big your dream is, make small tiny steps I had and grow with them, grow up with the company.',\n",
       "  'So ,my mistake in year 2001 I told my 18 founders, I said you guys can only be team manager, all the VPs I will hire from outside.',\n",
       "  'Now 10 years have past, all the wonderful people I hired from outside, 100% gone.',\n",
       "  'And those I think, how could you be successful?',\n",
       "  'These guys all become VPs and directors.',\n",
       "  'They are all powerful.',\n",
       "  'Because they believe they can.',\n",
       "  'So I want to tell everybody here, we all small but care your employees.',\n",
       "  'These are the people, they have the families, they have dreams, they come here not only for the job, they come here together with the dream share with you.',\n",
       "  '¤  ¤And the third thing — learn from your competitors.',\n",
       "  'Don’t hate the competitors.',\n",
       "  'Big companies hate competitors, I love my competitors.',\n",
       "  'Without competitors, we will never grow up that fast.',\n",
       "  'Year 2003, when we started Taobao, it’s a C2C option model.'],\n",
       " ['EBay, my competitor, at that time with 80 billion dollars market capital.'],\n",
       " ['We, small tiny, you know.',\n",
       "  'But we started compete.',\n",
       "  'It’s a lot of fun to compete with big guys.',\n",
       "  'If I started have a box with Taisen, I’m horned, you know.',\n",
       "  'If you have a chance to compete with somebody, it is a great competitor, you learned.',\n",
       "  'We learned from our competitors, we respect them.',\n",
       "  'Everything they move, you grow.',\n",
       "  'And the other thing I want to share with you is that competitors are the best laboratory for you.',\n",
       "  'Because competitors studied you.',\n",
       "  'Any innovative idea they come, you learn that.',\n",
       "  'Don’t copy them, learn from them.',\n",
       "  'So I love my competitors, every time I look at them with admire.',\n",
       "  'But in China, people say, Jack, you are so crazy.',\n",
       "  'Because 4 years ago, when I said, I look though the microscope, I never see my competitors.',\n",
       "  'People say, how could you “Kuangwang”?',\n",
       "  'and I said, “I’m looking for examples, models, why should I look for competitors?” Competitors are everywhere.',\n",
       "  'And when you compete, have you found the most interesting part of the business is competition?',\n",
       "  'To make your competitors angry, to make your competitors jumping around, that’s the skill you should have.',\n",
       "  'Not make yourself jumping around and angry, right?',\n",
       "  'Business is such a great fun.',\n",
       "  'When you compete, when I compete, if I got angry, if I jumping around, I know something wrong.',\n",
       "  'Because this is a wrong strategy to compete.',\n",
       "  'When you compete, not the purpose to make your competitors unhappy.',\n",
       "  'If they are unhappy, if they jumping around, if they start to use money to care things, you start to win.',\n",
       "  'Because they start to lose money.',\n",
       "  'If the competitors start to use money to compete, they start to lose.',\n",
       "  'Business is about wisdom, business is about hope, business is about courage.',\n",
       "  'So these are old excuse, nobody comfort us I learned to use my right hand to comfort my left hand when I’m in trouble.',\n",
       "  'You always tell yourself, I’m still survive, I’m still growing, everything is good.',\n",
       "  'At least I’m still surviving.',\n",
       "  'So when you are big, you start to worry about losing something.',\n",
       "  'When you are small, you start to grow.',\n",
       "  'So I always believe small, keep the hope.',\n",
       "  'So these are the thing I want to share with you and the most important thing I want to say is never ever give up your dreams.',\n",
       "  'I think, you cannot eat food for 7 days that you will die; if you are not drink for 3 days, you will die; if you are not breath for 3 minutes, you die.',\n",
       "  'But if you lose hope and dream for 1 minute, you die.',\n",
       "  '¤  ¤So I want to tell you that I had problems in the past 10 years.',\n",
       "  'These days when I walk in China, when I look at the airport, a lot of books about me, about the Alibaba, I feel very nervous.',\n",
       "  'Because these books are never interviewed me, we are not that good, we are not that bad.',\n",
       "  'Today, something, you know, successful, they started to write good things about it.',\n",
       "  'We made so many mistakes.',\n",
       "  'The only book that I dream about to write is Alibaba’s 1000 mistakes.',\n",
       "  'Every mistake you account, I think I made it.',\n",
       "  'And I know you will make it, too.',\n",
       "  'Because when I did business, people said, “wa, this is a mistake.',\n",
       "  'This guy is going to make it, that guy is going to make it.',\n",
       "  'I’m never going to make it.',\n",
       "  'I tell you, you will never going to make it.',\n",
       "  '“ And you will going to make it again, again, and again.',\n",
       "  'When you are going to make it again and again, don’t lose confidence.',\n",
       "  'Make it again, you are going to win.',\n",
       "  'That’s all we did.',\n",
       "  'I mean, nobody is perfect, right?'],\n",
       " ['So I almost lose my confidence in the year 2002 I had a big trouble with my team in the USA.',\n",
       "  'I learned from the great consult guy to join the company, “Jack, Alibaba is going to make international trade, international trade needs English.',\n",
       "  'Which country has the best English you believe?” I think, USA.',\n",
       "  'Right.',\n",
       "  '”Now, internet needs great technology, which country has the best technology?” We said, USA.',\n",
       "  'While, the Silicon Valley.',\n",
       "  'So we moved our Alibaba.com to the Silicon Valley.',\n",
       "  'But when I arrived Silicon Valley, suddenly I realized something wrong.',\n",
       "  'We hired people from Miami, from New York, from all the world.',\n",
       "  'They all came to the Silicon Valley.',\n",
       "  'After 3 months, the problem was nobody in the Silicon Valley knew the trade.',\n",
       "  'So what’s the point having good technology and English?',\n",
       "  'We are not English site.',\n",
       "  'All the small medium size companies, I cross the board, they know what exactly what you are talking about no matter how terrible your English is.',\n",
       "  'So I stopped the mistake and I told the people, “sorry, it’s a mistake.',\n",
       "  'Let’s move back.',\n",
       "  '” So after 2 months, we moved back to China again.',\n",
       "  'The funny thing is that everybody was happy at that time because Internet is boosting.'],\n",
       " ['They got a lot of compensation shares, they got a lot of cash pay and finding another job is easy.',\n",
       "  'But nobody want to the shares.',\n",
       "  'We give them one cent per share, no, no, no, we want cash.',\n",
       "  'Now you know, they don’t believe your dreams.',\n",
       "  'If they believe the dreams, give them shares one cent.',\n",
       "  'If they don’t believe, I want the cash, let them go.',\n",
       "  'And I was so disappointed, a lot of people we hired, they do not.',\n",
       "  'They want cash.',\n",
       "  'No matter how wonderful, that time, easy to rise money, people still want cash.',\n",
       "  'So I say, let forget it.',\n",
       "  'I walked half an hour on Beijing street, my colleague was with me, and then I told myself, go to bed sleep, tomorrow, again.',\n",
       "  '…we started.',\n",
       "  'Today, things changed.',\n",
       "  'So I want to tell you never ever give up your dreams.',\n",
       "  'And today I encourage myself and our team that reminds us one thing always I want to share with you to finish my speech – today is very difficult, tomorrow is much more difficult, but the day after tomorrow is very beautiful.',\n",
       "  'Most people die tomorrow evening.',\n",
       "  'You will never be able to see the day after tomorrow’s sunshine if you give up the hope, you will never see it.',\n",
       "  'If you give up your employees, you will never see it, if you give up your customers, you are dead.',\n",
       "  'But if you give up shareholders, you will get a better world.',\n",
       "  '¤  ¤Thank you!',\n",
       "  '¤']]"
      ]
     },
     "execution_count": 124,
     "metadata": {},
     "output_type": "execute_result"
    }
   ],
   "source": [
    "segmented_text"
   ]
  },
  {
   "cell_type": "code",
   "execution_count": 125,
   "metadata": {},
   "outputs": [],
   "source": [
    "split_ref = []\n",
    "for i, sentence in enumerate(sentenced_text):\n",
    "  if '¤' in sentence:\n",
    "    split_ref.append(i)"
   ]
  },
  {
   "cell_type": "code",
   "execution_count": 126,
   "metadata": {},
   "outputs": [
    {
     "name": "stdout",
     "output_type": "stream",
     "text": [
      "0.4777327935222672\n"
     ]
    }
   ],
   "source": [
    "print(P_k(split_ref, optimal_segmentation.splits, len(sentenced_text)))"
   ]
  },
  {
   "cell_type": "code",
   "execution_count": 127,
   "metadata": {},
   "outputs": [
    {
     "data": {
      "text/plain": [
       "10"
      ]
     },
     "execution_count": 127,
     "metadata": {},
     "output_type": "execute_result"
    }
   ],
   "source": [
    "len(split_ref)"
   ]
  },
  {
   "cell_type": "code",
   "execution_count": null,
   "metadata": {},
   "outputs": [],
   "source": []
  }
 ],
 "metadata": {
  "kernelspec": {
   "display_name": "nlp",
   "language": "python",
   "name": "nlp"
  },
  "language_info": {
   "codemirror_mode": {
    "name": "ipython",
    "version": 3
   },
   "file_extension": ".py",
   "mimetype": "text/x-python",
   "name": "python",
   "nbconvert_exporter": "python",
   "pygments_lexer": "ipython3",
   "version": "3.6.5"
  },
  "varInspector": {
   "cols": {
    "lenName": 16,
    "lenType": 16,
    "lenVar": 40
   },
   "kernels_config": {
    "python": {
     "delete_cmd_postfix": "",
     "delete_cmd_prefix": "del ",
     "library": "var_list.py",
     "varRefreshCmd": "print(var_dic_list())"
    },
    "r": {
     "delete_cmd_postfix": ") ",
     "delete_cmd_prefix": "rm(",
     "library": "var_list.r",
     "varRefreshCmd": "cat(var_dic_list()) "
    }
   },
   "types_to_exclude": [
    "module",
    "function",
    "builtin_function_or_method",
    "instance",
    "_Feature"
   ],
   "window_display": false
  }
 },
 "nbformat": 4,
 "nbformat_minor": 2
}
