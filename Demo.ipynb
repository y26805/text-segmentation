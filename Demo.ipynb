{
 "cells": [
  {
   "cell_type": "code",
   "execution_count": 1,
   "metadata": {},
   "outputs": [],
   "source": [
    "import pandas as pd\n",
    "import nltk\n",
    "from sklearn.feature_extraction.text import CountVectorizer\n",
    "import textsplit\n",
    "from textsplit.tools import get_penalty, get_segments, P_k\n",
    "from textsplit.algorithm import split_optimal, split_greedy, get_total"
   ]
  },
  {
   "cell_type": "code",
   "execution_count": 15,
   "metadata": {},
   "outputs": [],
   "source": [
    "FILE_PATH = '/Users/sauyee/repos/git/text-segmentation/data/article_1.txt'"
   ]
  },
  {
   "cell_type": "markdown",
   "metadata": {},
   "source": [
    "# Use pre-trained embeddings"
   ]
  },
  {
   "cell_type": "code",
   "execution_count": 2,
   "metadata": {},
   "outputs": [],
   "source": [
    "embeddings_tuple = pd.read_pickle('/Users/sauyee/repos/git/text-segmentation/polyglot-en.pkl')"
   ]
  },
  {
   "cell_type": "code",
   "execution_count": 3,
   "metadata": {},
   "outputs": [],
   "source": [
    "model_df = pd.DataFrame(embeddings_tuple[1], index=embeddings_tuple[0])"
   ]
  },
  {
   "cell_type": "code",
   "execution_count": 4,
   "metadata": {},
   "outputs": [
    {
     "data": {
      "text/plain": [
       "(100004, 64)"
      ]
     },
     "execution_count": 4,
     "metadata": {},
     "output_type": "execute_result"
    }
   ],
   "source": [
    "model_df.shape"
   ]
  },
  {
   "cell_type": "markdown",
   "metadata": {},
   "source": [
    "# Preprocessing / tokenization"
   ]
  },
  {
   "cell_type": "code",
   "execution_count": 5,
   "metadata": {},
   "outputs": [],
   "source": [
    "def get_sentence_tokenizer():\n",
    "    nltk.download('punkt')\n",
    "    return nltk.data.load('tokenizers/punkt/english.pickle')\n"
   ]
  },
  {
   "cell_type": "code",
   "execution_count": 6,
   "metadata": {},
   "outputs": [
    {
     "name": "stdout",
     "output_type": "stream",
     "text": [
      "[nltk_data] Downloading package punkt to /Users/sauyee/nltk_data...\n",
      "[nltk_data]   Package punkt is already up-to-date!\n"
     ]
    }
   ],
   "source": [
    "sentence_tokenizer = get_sentence_tokenizer()"
   ]
  },
  {
   "cell_type": "code",
   "execution_count": 7,
   "metadata": {},
   "outputs": [],
   "source": [
    "def preprocess_text(path):\n",
    "    with open(path, 'rt') as f:\n",
    "        text = f.read().replace('Yahoo!', 'Yahoo')\\\n",
    "            .replace('K.K.', 'KK')\\\n",
    "            .replace('\\n\\n', '\\n')\\\n",
    "            .replace('\\n', ' ¤')\n",
    "    return text\n",
    "\n",
    "\n",
    "def get_sentenced_vectors(text, sentence_analyzer, model_df):\n",
    "    sentenced_text = sentence_analyzer.tokenize(text)\n",
    "    vecr = CountVectorizer(vocabulary=model_df.index)\n",
    "    return vecr.transform(sentenced_text).dot(model_df)\n",
    "\n",
    "def get_optimal_segmentation_and_text(sentenced_text, sentence_vectors, penalty):\n",
    "    optimal_segmentation = split_optimal(sentence_vectors, penalty, seg_limit=250)\n",
    "    # seg_limit is maximum number of sentences in a segment. optional\n",
    "    segmented_text = get_segments(sentenced_text, optimal_segmentation)\n",
    "    print('%d sentences, %d segments, avg %4.2f sentences per segment' % (\n",
    "        len(sentenced_text), len(segmented_text), len(sentenced_text) / len(segmented_text)))\n",
    "    return optimal_segmentation, segmented_text"
   ]
  },
  {
   "cell_type": "code",
   "execution_count": 25,
   "metadata": {},
   "outputs": [],
   "source": [
    "text = preprocess_text(FILE_PATH)"
   ]
  },
  {
   "cell_type": "code",
   "execution_count": 26,
   "metadata": {},
   "outputs": [
    {
     "data": {
      "text/plain": [
       "'SoftBank is launching of a $5 billion fund that will invest in technology start-ups across Latin America, the company announced Thursday. ¤The new fund, named the SoftBank Innovation Fund, will be run by former Sprint CEO and Bolivian native Marcelo Claure. SoftBank has already committed $2 billion to the fund, though no decision has been made yet on where its headquarters will be. ¤The fund’s size is unprecedented in Latin America as it totals the combined venture capital investments of 2017 and 2018, according to Venturesource data cited by The Wall Street Journal. ¤“Latin America is on the cusp of becoming one of the most important economic regions in the world, and we anticipate significant growth in the decades ahead,” said Masayoshi Son, chairman and CEO of SoftBank, in a statement. ¤SoftBank said the new fund will focus investments on industries like e-commerce, health care and digital financial services, among others. The fund will also invest all throughout Latin America, including countries like Argentina, Brazil, Chile and Mexico. ¤“There is so much innovation and disruption taking place in the region, and I believe the business opportunities have never been stronger,” said Claure. “The SoftBank Innovation Fund will become a major investor in transformative Latin American companies that are poised to redefine their industries and create new economic opportunities for millions of people.” ¤Softbank, which already has a $100 billion investment vehicle known as Softbank Vision Fund, has made large investments in ride-hailing firm Uber Technologies, shared office provider WeWork, food delivery startup DoorDash and dog walking app Wag. ¤'"
      ]
     },
     "execution_count": 26,
     "metadata": {},
     "output_type": "execute_result"
    }
   ],
   "source": [
    "text"
   ]
  },
  {
   "cell_type": "code",
   "execution_count": 27,
   "metadata": {},
   "outputs": [],
   "source": [
    "sentenced_text = sentence_tokenizer.tokenize(text)"
   ]
  },
  {
   "cell_type": "code",
   "execution_count": 28,
   "metadata": {},
   "outputs": [
    {
     "data": {
      "text/plain": [
       "['SoftBank is launching of a $5 billion fund that will invest in technology start-ups across Latin America, the company announced Thursday.',\n",
       " '¤The new fund, named the SoftBank Innovation Fund, will be run by former Sprint CEO and Bolivian native Marcelo Claure.',\n",
       " 'SoftBank has already committed $2 billion to the fund, though no decision has been made yet on where its headquarters will be.',\n",
       " '¤The fund’s size is unprecedented in Latin America as it totals the combined venture capital investments of 2017 and 2018, according to Venturesource data cited by The Wall Street Journal.',\n",
       " '¤“Latin America is on the cusp of becoming one of the most important economic regions in the world, and we anticipate significant growth in the decades ahead,” said Masayoshi Son, chairman and CEO of SoftBank, in a statement.',\n",
       " '¤SoftBank said the new fund will focus investments on industries like e-commerce, health care and digital financial services, among others.',\n",
       " 'The fund will also invest all throughout Latin America, including countries like Argentina, Brazil, Chile and Mexico.',\n",
       " '¤“There is so much innovation and disruption taking place in the region, and I believe the business opportunities have never been stronger,” said Claure.',\n",
       " '“The SoftBank Innovation Fund will become a major investor in transformative Latin American companies that are poised to redefine their industries and create new economic opportunities for millions of people.” ¤Softbank, which already has a $100 billion investment vehicle known as Softbank Vision Fund, has made large investments in ride-hailing firm Uber Technologies, shared office provider WeWork, food delivery startup DoorDash and dog walking app Wag.',\n",
       " '¤']"
      ]
     },
     "execution_count": 28,
     "metadata": {},
     "output_type": "execute_result"
    }
   ],
   "source": [
    "sentenced_text"
   ]
  },
  {
   "cell_type": "code",
   "execution_count": 29,
   "metadata": {},
   "outputs": [],
   "source": [
    "sentenced_vectors = get_sentenced_vectors(text, sentence_tokenizer, model_df)"
   ]
  },
  {
   "cell_type": "code",
   "execution_count": null,
   "metadata": {},
   "outputs": [],
   "source": []
  },
  {
   "cell_type": "code",
   "execution_count": 32,
   "metadata": {},
   "outputs": [
    {
     "name": "stdout",
     "output_type": "stream",
     "text": [
      "Number of senteces: 10\n"
     ]
    }
   ],
   "source": [
    "print(\"Number of senteces:\", sentenced_vectors.shape[0])"
   ]
  },
  {
   "cell_type": "code",
   "execution_count": 35,
   "metadata": {},
   "outputs": [],
   "source": [
    "penalty = get_penalty([sentenced_vectors], segment_len=5)"
   ]
  },
  {
   "cell_type": "code",
   "execution_count": 36,
   "metadata": {},
   "outputs": [
    {
     "data": {
      "text/plain": [
       "(10, 64)"
      ]
     },
     "execution_count": 36,
     "metadata": {},
     "output_type": "execute_result"
    }
   ],
   "source": [
    "sentenced_vectors.shape"
   ]
  },
  {
   "cell_type": "code",
   "execution_count": 37,
   "metadata": {},
   "outputs": [
    {
     "data": {
      "text/plain": [
       "3.9755154891134907"
      ]
     },
     "execution_count": 37,
     "metadata": {},
     "output_type": "execute_result"
    }
   ],
   "source": [
    "penalty"
   ]
  },
  {
   "cell_type": "code",
   "execution_count": 38,
   "metadata": {},
   "outputs": [
    {
     "name": "stdout",
     "output_type": "stream",
     "text": [
      "10 sentences, 4 segments, avg 2.50 sentences per segment\n"
     ]
    }
   ],
   "source": [
    "optimal_segmentation, segmented_text = get_optimal_segmentation_and_text(sentenced_text, sentenced_vectors, penalty)"
   ]
  },
  {
   "cell_type": "code",
   "execution_count": 39,
   "metadata": {},
   "outputs": [
    {
     "data": {
      "text/plain": [
       "[['SoftBank is launching of a $5 billion fund that will invest in technology start-ups across Latin America, the company announced Thursday.'],\n",
       " ['¤The new fund, named the SoftBank Innovation Fund, will be run by former Sprint CEO and Bolivian native Marcelo Claure.',\n",
       "  'SoftBank has already committed $2 billion to the fund, though no decision has been made yet on where its headquarters will be.'],\n",
       " ['¤The fund’s size is unprecedented in Latin America as it totals the combined venture capital investments of 2017 and 2018, according to Venturesource data cited by The Wall Street Journal.',\n",
       "  '¤“Latin America is on the cusp of becoming one of the most important economic regions in the world, and we anticipate significant growth in the decades ahead,” said Masayoshi Son, chairman and CEO of SoftBank, in a statement.'],\n",
       " ['¤SoftBank said the new fund will focus investments on industries like e-commerce, health care and digital financial services, among others.',\n",
       "  'The fund will also invest all throughout Latin America, including countries like Argentina, Brazil, Chile and Mexico.',\n",
       "  '¤“There is so much innovation and disruption taking place in the region, and I believe the business opportunities have never been stronger,” said Claure.',\n",
       "  '“The SoftBank Innovation Fund will become a major investor in transformative Latin American companies that are poised to redefine their industries and create new economic opportunities for millions of people.” ¤Softbank, which already has a $100 billion investment vehicle known as Softbank Vision Fund, has made large investments in ride-hailing firm Uber Technologies, shared office provider WeWork, food delivery startup DoorDash and dog walking app Wag.',\n",
       "  '¤']]"
      ]
     },
     "execution_count": 39,
     "metadata": {},
     "output_type": "execute_result"
    }
   ],
   "source": [
    "segmented_text"
   ]
  },
  {
   "cell_type": "code",
   "execution_count": 40,
   "metadata": {},
   "outputs": [],
   "source": [
    "split_ref = []\n",
    "for i, sentence in enumerate(sentenced_text):\n",
    "  if '¤' in sentence:\n",
    "    split_ref.append(i)"
   ]
  },
  {
   "cell_type": "code",
   "execution_count": 46,
   "metadata": {},
   "outputs": [
    {
     "name": "stdout",
     "output_type": "stream",
     "text": [
      "0.0\n"
     ]
    }
   ],
   "source": [
    "print(P_k(split_ref, optimal_segmentation.splits, len(sentenced_text)))"
   ]
  },
  {
   "cell_type": "code",
   "execution_count": 43,
   "metadata": {},
   "outputs": [
    {
     "name": "stdout",
     "output_type": "stream",
     "text": [
      "Number of paragraphs in ref text 7\n"
     ]
    }
   ],
   "source": [
    "print(\"Number of paragraphs in ref text\", len(split_ref))"
   ]
  },
  {
   "cell_type": "code",
   "execution_count": 45,
   "metadata": {},
   "outputs": [
    {
     "name": "stdout",
     "output_type": "stream",
     "text": [
      "Number of paragraphs in hyp text 3\n"
     ]
    }
   ],
   "source": [
    "print(\"Number of paragraphs in hyp text\", len(optimal_segmentation.splits))"
   ]
  },
  {
   "cell_type": "code",
   "execution_count": 47,
   "metadata": {},
   "outputs": [
    {
     "data": {
      "text/plain": [
       "[1, 3, 5]"
      ]
     },
     "execution_count": 47,
     "metadata": {},
     "output_type": "execute_result"
    }
   ],
   "source": [
    "optimal_segmentation.splits"
   ]
  },
  {
   "cell_type": "code",
   "execution_count": 48,
   "metadata": {},
   "outputs": [
    {
     "data": {
      "text/plain": [
       "[1, 3, 4, 5, 7, 8, 9]"
      ]
     },
     "execution_count": 48,
     "metadata": {},
     "output_type": "execute_result"
    }
   ],
   "source": [
    "split_ref"
   ]
  },
  {
   "cell_type": "code",
   "execution_count": null,
   "metadata": {},
   "outputs": [],
   "source": []
  }
 ],
 "metadata": {
  "kernelspec": {
   "display_name": "nlp",
   "language": "python",
   "name": "nlp"
  },
  "language_info": {
   "codemirror_mode": {
    "name": "ipython",
    "version": 3
   },
   "file_extension": ".py",
   "mimetype": "text/x-python",
   "name": "python",
   "nbconvert_exporter": "python",
   "pygments_lexer": "ipython3",
   "version": "3.6.5"
  },
  "varInspector": {
   "cols": {
    "lenName": 16,
    "lenType": 16,
    "lenVar": 40
   },
   "kernels_config": {
    "python": {
     "delete_cmd_postfix": "",
     "delete_cmd_prefix": "del ",
     "library": "var_list.py",
     "varRefreshCmd": "print(var_dic_list())"
    },
    "r": {
     "delete_cmd_postfix": ") ",
     "delete_cmd_prefix": "rm(",
     "library": "var_list.r",
     "varRefreshCmd": "cat(var_dic_list()) "
    }
   },
   "types_to_exclude": [
    "module",
    "function",
    "builtin_function_or_method",
    "instance",
    "_Feature"
   ],
   "window_display": false
  }
 },
 "nbformat": 4,
 "nbformat_minor": 2
}
